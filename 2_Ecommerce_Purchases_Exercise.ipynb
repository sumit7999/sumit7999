{
  "nbformat": 4,
  "nbformat_minor": 0,
  "metadata": {
    "colab": {
      "name": "2 Ecommerce Purchases Exercise",
      "provenance": [],
      "toc_visible": true,
      "authorship_tag": "ABX9TyPOozUf4PXC7PJcmvf8UA97",
      "include_colab_link": true
    },
    "kernelspec": {
      "name": "python3",
      "display_name": "Python 3"
    },
    "language_info": {
      "name": "python"
    }
  },
  "cells": [
    {
      "cell_type": "markdown",
      "metadata": {
        "id": "view-in-github",
        "colab_type": "text"
      },
      "source": [
        "<a href=\"https://colab.research.google.com/github/sumit7999/sumit7999/blob/main/2_Ecommerce_Purchases_Exercise.ipynb\" target=\"_parent\"><img src=\"https://colab.research.google.com/assets/colab-badge.svg\" alt=\"Open In Colab\"/></a>"
      ]
    },
    {
      "cell_type": "markdown",
      "source": [
        "** Import pandas and read in the Ecommerce Purchases csv file and set it to a DataFrame called ecom. **"
      ],
      "metadata": {
        "id": "SkiCXsKfRDSo"
      }
    },
    {
      "cell_type": "code",
      "source": [
        "import pandas as pd\n",
        "ecom=pd.read_csv(\"/content/Ecommerce Purchases.txt\")"
      ],
      "metadata": {
        "id": "LFIRx6TVRJyW"
      },
      "execution_count": 3,
      "outputs": []
    },
    {
      "cell_type": "markdown",
      "source": [
        "**Check the head of the DataFrame.**"
      ],
      "metadata": {
        "id": "ICR-Ei1_RQTw"
      }
    },
    {
      "cell_type": "code",
      "source": [
        "ecom.head()"
      ],
      "metadata": {
        "id": "9VNRlDkvRJ1e"
      },
      "execution_count": null,
      "outputs": []
    },
    {
      "cell_type": "markdown",
      "source": [
        "** How many rows and columns are there? **"
      ],
      "metadata": {
        "id": "Uuwq1N9HRxNo"
      }
    },
    {
      "cell_type": "code",
      "source": [
        "ecom.info()"
      ],
      "metadata": {
        "id": "8Fw4LuJPRJ6d"
      },
      "execution_count": null,
      "outputs": []
    },
    {
      "cell_type": "markdown",
      "source": [
        "** What is the average Purchase Price? **"
      ],
      "metadata": {
        "id": "ULP4JqkuR_jf"
      }
    },
    {
      "cell_type": "code",
      "source": [
        "ecom[\"Purchase Price\"].mean()"
      ],
      "metadata": {
        "id": "PsEpsBjVRJ-F"
      },
      "execution_count": null,
      "outputs": []
    },
    {
      "cell_type": "markdown",
      "source": [
        "** What were the highest and lowest purchase prices? **"
      ],
      "metadata": {
        "id": "Hn8669WYSLce"
      }
    },
    {
      "cell_type": "code",
      "source": [
        "ecom[\"Purchase Price\"].max()"
      ],
      "metadata": {
        "id": "oHK7YNKLRKBP"
      },
      "execution_count": null,
      "outputs": []
    },
    {
      "cell_type": "code",
      "source": [
        "ecom[\"Purchase Price\"].min()"
      ],
      "metadata": {
        "colab": {
          "base_uri": "https://localhost:8080/"
        },
        "id": "hbjwMGGsRKEr",
        "outputId": "151ddbaa-ec90-4d73-a9d0-c8e2e21b51a9"
      },
      "execution_count": 9,
      "outputs": [
        {
          "output_type": "execute_result",
          "data": {
            "text/plain": [
              "0.0"
            ]
          },
          "metadata": {},
          "execution_count": 9
        }
      ]
    },
    {
      "cell_type": "markdown",
      "source": [
        "** How many people have English 'en' as their Language of choice on the website? **n"
      ],
      "metadata": {
        "id": "6xdP1FKMSn3y"
      }
    },
    {
      "cell_type": "code",
      "source": [
        "ecom[ecom[\"Language\"]==\"en\"].count()"
      ],
      "metadata": {
        "id": "RTO2D5NxRKOf"
      },
      "execution_count": null,
      "outputs": []
    },
    {
      "cell_type": "markdown",
      "source": [
        "** How many people have the job title of \"Lawyer\" ? **"
      ],
      "metadata": {
        "id": "xpoZcWQxTAQd"
      }
    },
    {
      "cell_type": "code",
      "source": [
        "ecom[ecom[\"Job\"]==\"Lawyer\"].count()"
      ],
      "metadata": {
        "id": "oSymWiXkRKRS"
      },
      "execution_count": null,
      "outputs": []
    },
    {
      "cell_type": "markdown",
      "source": [
        "** How many people made the purchase during the AM and how many people made the purchase during PM ? **"
      ],
      "metadata": {
        "id": "8ssUrhHfUbQM"
      }
    },
    {
      "cell_type": "code",
      "source": [
        "ecom[\"AM or PM\"].value_counts()"
      ],
      "metadata": {
        "id": "WBB272XqTGw8"
      },
      "execution_count": null,
      "outputs": []
    },
    {
      "cell_type": "code",
      "source": [
        "ecom[\"Job\"].value_counts().head(5)"
      ],
      "metadata": {
        "id": "os4OlgW_TGzz"
      },
      "execution_count": null,
      "outputs": []
    },
    {
      "cell_type": "markdown",
      "source": [
        "** Someone made a purchase that came from Lot: \"90 WT\" , what was the Purchase Price for this transaction? **"
      ],
      "metadata": {
        "id": "VR2ezoLWV6en"
      }
    },
    {
      "cell_type": "code",
      "source": [
        "ecom[ecom[\"Lot\"]==\"90 WT\"][\"Purchase Price\"]"
      ],
      "metadata": {
        "id": "qdmRYXD-TG29"
      },
      "execution_count": null,
      "outputs": []
    },
    {
      "cell_type": "markdown",
      "source": [
        "** What is the email of the person with the following Credit Card Number: 4926535242672853 **"
      ],
      "metadata": {
        "id": "f9B6FXBkWmDN"
      }
    },
    {
      "cell_type": "code",
      "source": [
        "ecom[ecom[\"Credit Card\"]==4926535242672853][\"Email\"]"
      ],
      "metadata": {
        "id": "bql627E9TG5R"
      },
      "execution_count": null,
      "outputs": []
    },
    {
      "cell_type": "markdown",
      "source": [
        "** How many people have American Express as their Credit Card Provider *and* made a purchase above $95 ?** "
      ],
      "metadata": {
        "id": "4K1_whdbXL3_"
      }
    },
    {
      "cell_type": "code",
      "source": [
        "ecom[(ecom[\"CC Provider\"]==\"American Express\") & (ecom[\"Purchase Price\"] > 95)].count()"
      ],
      "metadata": {
        "id": "TzU4Hz-dWoOE"
      },
      "execution_count": null,
      "outputs": []
    },
    {
      "cell_type": "markdown",
      "source": [
        "**How many people have a credit card that expires in 2025? **"
      ],
      "metadata": {
        "id": "VgM1wRspYpIL"
      }
    },
    {
      "cell_type": "code",
      "source": [
        "sum(ecom[\"CC Exp Date\"].apply(lambda x:x[3:])=='25')"
      ],
      "metadata": {
        "id": "mkBTBQF8WoRp"
      },
      "execution_count": null,
      "outputs": []
    }
  ]
}